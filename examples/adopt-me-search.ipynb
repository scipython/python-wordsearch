{
 "cells": [
  {
   "cell_type": "code",
   "execution_count": 1,
   "id": "046ad42f",
   "metadata": {},
   "outputs": [],
   "source": [
    "from wordsearch.wordsearch import WordSearch"
   ]
  },
  {
   "cell_type": "code",
   "execution_count": 12,
   "id": "67a7f5bf",
   "metadata": {},
   "outputs": [],
   "source": [
    "wordsearch = WordSearch(\n",
    "            17,\n",
    "            17,\n",
    "            [\n",
    "              \"UNICORN\",\n",
    "              \"TURTLE\",\n",
    "              \"WINGED HORSE\",\n",
    "              \"GIRAFFE\",\n",
    "              \"CHOCOLATE LABRADOR\",\n",
    "              \"TOUCAN\",\n",
    "              \"PET ROCK\",\n",
    "              \"LUNAR TIGER\",\n",
    "              \"PARROT\",\n",
    "              \"SHADOW DRAGON\"\n",
    "            ],\n",
    "            mask=\"circle\",\n",
    "            output_filestem=\"adoptme-search\",\n",
    "            allow_backwards_words=True,\n",
    "            )"
   ]
  },
  {
   "cell_type": "code",
   "execution_count": 13,
   "id": "31f94621",
   "metadata": {},
   "outputs": [
    {
     "name": "stdout",
     "output_type": "stream",
     "text": [
      "            R X L L Z            \n",
      "        N O O E L T R U T        \n",
      "    I A Z V D K Z J M I E Z B    \n",
      "    K E F F A R I G T S M N G    \n",
      "  L G K C O R T E P R S B Z G N  \n",
      "  W U H T I B V Y O R H U B N P  \n",
      "R M L N Q U A Y H V T A N J F X U\n",
      "P N S W A O L D K O J D I L Q G E\n",
      "I A Q H U R E B U F V O C Q U M P\n",
      "Y X R O T G T C X U N W O I T A L\n",
      "K N S R N K A I C D I D R H X F O\n",
      "  F R I O N L I G R H R N P C K  \n",
      "  J W A E T O X A E H A Y M G N  \n",
      "    D W Q H C S H H R G R D E    \n",
      "    J B K T O U U H J O E D P    \n",
      "        R L H L L K J N X        \n",
      "            C N S B U            \n",
      "CHOCOLATE LABRADOR\n",
      "SHADOW DRAGON\n",
      "WINGED HORSE\n",
      "LUNAR TIGER\n",
      "PET ROCK\n",
      "UNICORN\n",
      "GIRAFFE\n",
      "TURTLE\n",
      "TOUCAN\n",
      "PARROT\n"
     ]
    }
   ],
   "source": [
    "wordsearch.make()\n",
    "print(wordsearch.wordsearch_text)"
   ]
  },
  {
   "cell_type": "code",
   "execution_count": 16,
   "id": "735e2c59",
   "metadata": {},
   "outputs": [],
   "source": [
    "wordsearch.write_wordsearch_and_solution_svg()"
   ]
  },
  {
   "cell_type": "markdown",
   "id": "16b29035",
   "metadata": {},
   "source": [
    "![](./adoptme-search.svg)"
   ]
  }
 ],
 "metadata": {
  "kernelspec": {
   "display_name": "Python 3 (ipykernel)",
   "language": "python",
   "name": "python3"
  },
  "language_info": {
   "codemirror_mode": {
    "name": "ipython",
    "version": 3
   },
   "file_extension": ".py",
   "mimetype": "text/x-python",
   "name": "python",
   "nbconvert_exporter": "python",
   "pygments_lexer": "ipython3",
   "version": "3.9.13"
  }
 },
 "nbformat": 4,
 "nbformat_minor": 5
}
