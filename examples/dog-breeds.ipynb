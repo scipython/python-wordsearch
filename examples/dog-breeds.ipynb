{
 "cells": [
  {
   "cell_type": "code",
   "execution_count": 1,
   "id": "68f32f0a",
   "metadata": {},
   "outputs": [],
   "source": [
    "from wordsearch.wordsearch import WordSearch"
   ]
  },
  {
   "cell_type": "code",
   "execution_count": 2,
   "id": "8eae6041",
   "metadata": {},
   "outputs": [],
   "source": [
    "wordsearch = WordSearch(\n",
    "            15,\n",
    "            15,\n",
    "            [\n",
    "              \"BOXER\",\n",
    "              \"DACHSHUND\",\n",
    "              \"AIREDALE\",\n",
    "              \"BORZOI\",\n",
    "              \"LABRADOR\",\n",
    "              \"CHIHUAHUA\",\n",
    "              \"GREYHOUND\",\n",
    "              \"POMERANIAN\",\n",
    "            ],\n",
    "            mask=\"circle\",\n",
    "            output_filestem=\"dog-search\",\n",
    "            allow_backwards_words=True,\n",
    "            )"
   ]
  },
  {
   "cell_type": "code",
   "execution_count": 3,
   "id": "01f93186",
   "metadata": {},
   "outputs": [
    {
     "data": {
      "text/plain": [
       "(True, 'Fitted the words in 1 attempt(s)')"
      ]
     },
     "execution_count": 3,
     "metadata": {},
     "output_type": "execute_result"
    }
   ],
   "source": [
    "wordsearch.make()"
   ]
  },
  {
   "cell_type": "code",
   "execution_count": 4,
   "id": "0b535244",
   "metadata": {},
   "outputs": [
    {
     "name": "stdout",
     "output_type": "stream",
     "text": [
      "          S V K X Q          \n",
      "      G Y P L A B I P O      \n",
      "    V A J Y L F R V L N T    \n",
      "  N A I N A R E M O P O P J  \n",
      "  S Y C E D N U O H Y E R G  \n",
      "Q C K H L T S L A B R A D O R\n",
      "Z E K I A Z Q J Y Y J N L P F\n",
      "R P W H D I A I G S U S H E Z\n",
      "Q H R U E S P X O H G N K G R\n",
      "L A U A R Z N K S Z X P F E Z\n",
      "  B D H I S F H Y I R X X N  \n",
      "  U Q U A U C A I U P O Q D  \n",
      "    B A V A L G A O B S B    \n",
      "      V D T S P B C N D      \n",
      "          F H W N O          \n",
      "POMERANIAN\n",
      "DACHSHUND\n",
      "CHIHUAHUA\n",
      "GREYHOUND\n",
      "AIREDALE\n",
      "LABRADOR\n",
      "BORZOI\n",
      "BOXER\n"
     ]
    }
   ],
   "source": [
    "print(wordsearch.wordsearch_text)"
   ]
  },
  {
   "cell_type": "code",
   "execution_count": 5,
   "id": "f7b53349",
   "metadata": {},
   "outputs": [],
   "source": [
    "wordsearch.write_wordsearch_and_solution_svg()"
   ]
  },
  {
   "cell_type": "code",
   "execution_count": 6,
   "id": "f71a0cd8",
   "metadata": {},
   "outputs": [
    {
     "name": "stdout",
     "output_type": "stream",
     "text": [
      "Untitled.ipynb              dog-breeds.ipynb\r\n",
      "adoptme-search-solution.svg dog-search-solution.svg\r\n",
      "adoptme-search.svg          dog-search.svg\r\n"
     ]
    }
   ],
   "source": [
    "!ls"
   ]
  },
  {
   "cell_type": "markdown",
   "id": "4632cf6e",
   "metadata": {},
   "source": [
    "![](./dog-search.svg)"
   ]
  }
 ],
 "metadata": {
  "kernelspec": {
   "display_name": "Python 3 (ipykernel)",
   "language": "python",
   "name": "python3"
  },
  "language_info": {
   "codemirror_mode": {
    "name": "ipython",
    "version": 3
   },
   "file_extension": ".py",
   "mimetype": "text/x-python",
   "name": "python",
   "nbconvert_exporter": "python",
   "pygments_lexer": "ipython3",
   "version": "3.9.13"
  }
 },
 "nbformat": 4,
 "nbformat_minor": 5
}
