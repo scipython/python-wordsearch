{
 "cells": [
  {
   "cell_type": "code",
   "execution_count": 4,
   "id": "68f32f0a",
   "metadata": {},
   "outputs": [],
   "source": [
    "from wordsearch.wordsearch import WordSearch"
   ]
  },
  {
   "cell_type": "code",
   "execution_count": 5,
   "id": "8eae6041",
   "metadata": {},
   "outputs": [],
   "source": [
    "wordsearch = WordSearch(\n",
    "            15,\n",
    "            15,\n",
    "            [\n",
    "              \"BOXER\",\n",
    "              \"DASCHUND\",\n",
    "              \"AIREDALE\",\n",
    "              \"BORZOI\",\n",
    "              \"LABRADOR\",\n",
    "              \"CHIHUAHUA\",\n",
    "              \"GREYHOUND\",\n",
    "              \"POMERANIAN\",\n",
    "            ],\n",
    "            mask=\"circle\",\n",
    "            output_filestem=\"dog-search\",\n",
    "            allow_backwards_words=True,\n",
    "            )"
   ]
  },
  {
   "cell_type": "code",
   "execution_count": 6,
   "id": "01f93186",
   "metadata": {},
   "outputs": [
    {
     "data": {
      "text/plain": [
       "(True, 'Fitted the words in 1 attempt(s)')"
      ]
     },
     "execution_count": 6,
     "metadata": {},
     "output_type": "execute_result"
    }
   ],
   "source": [
    "wordsearch.make()"
   ]
  },
  {
   "cell_type": "code",
   "execution_count": 7,
   "id": "0b535244",
   "metadata": {},
   "outputs": [
    {
     "name": "stdout",
     "output_type": "stream",
     "text": [
      "          L T Y U P          \n",
      "      B K T A Y O Q F K      \n",
      "    B I K X D M J S J D H    \n",
      "  Z L A I R E D A L E W D B  \n",
      "  F R K P R O D A R B A L K  \n",
      "J I Y G A A U H A U H I H C R\n",
      "S Q V N R H J B A E D Q Z T F\n",
      "I P I Z I E O C T D A P T Q B\n",
      "K A K T N R Y E E E S Q K R B\n",
      "N A T E Z U B H S C C I C A Z\n",
      "  Z J O Q R E X O B H M Q S  \n",
      "  H I B N D U V K U U F L U  \n",
      "    Q V I O I R E O N N X    \n",
      "      D T E S W L F D D      \n",
      "          C J A Y U          \n",
      "POMERANIAN\n",
      "CHIHUAHUA\n",
      "GREYHOUND\n",
      "DASCHUND\n",
      "AIREDALE\n",
      "LABRADOR\n",
      "BORZOI\n",
      "BOXER\n"
     ]
    }
   ],
   "source": [
    "print(wordsearch.wordsearch_text)"
   ]
  },
  {
   "cell_type": "code",
   "execution_count": 8,
   "id": "f7b53349",
   "metadata": {},
   "outputs": [],
   "source": [
    "wordsearch.write_wordsearch_and_solution_svg()"
   ]
  },
  {
   "cell_type": "code",
   "execution_count": 9,
   "id": "f71a0cd8",
   "metadata": {},
   "outputs": [
    {
     "name": "stdout",
     "output_type": "stream",
     "text": [
      "dog-breeds.ipynb        dog-search-solution.svg dog-search.svg\r\n"
     ]
    }
   ],
   "source": [
    "!ls"
   ]
  },
  {
   "cell_type": "markdown",
   "id": "12608519",
   "metadata": {},
   "source": [
    "![](dog-search.svg)"
   ]
  }
 ],
 "metadata": {
  "kernelspec": {
   "display_name": "Python 3 (ipykernel)",
   "language": "python",
   "name": "python3"
  },
  "language_info": {
   "codemirror_mode": {
    "name": "ipython",
    "version": 3
   },
   "file_extension": ".py",
   "mimetype": "text/x-python",
   "name": "python",
   "nbconvert_exporter": "python",
   "pygments_lexer": "ipython3",
   "version": "3.9.13"
  }
 },
 "nbformat": 4,
 "nbformat_minor": 5
}
